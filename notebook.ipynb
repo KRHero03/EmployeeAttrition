{
  "nbformat": 4,
  "nbformat_minor": 0,
  "metadata": {
    "colab": {
      "name": "notebook.ipynb",
      "provenance": [],
      "authorship_tag": "ABX9TyOe4ojJ7+0qe/KLMAEQLOX7",
      "include_colab_link": true
    },
    "kernelspec": {
      "name": "python3",
      "display_name": "Python 3"
    }
  },
  "cells": [
    {
      "cell_type": "markdown",
      "metadata": {
        "id": "view-in-github",
        "colab_type": "text"
      },
      "source": [
        "<a href=\"https://colab.research.google.com/github/KRHero03/EmployeeAttrition/blob/master/notebook.ipynb\" target=\"_parent\"><img src=\"https://colab.research.google.com/assets/colab-badge.svg\" alt=\"Open In Colab\"/></a>"
      ]
    },
    {
      "cell_type": "code",
      "metadata": {
        "id": "rqPA6d-_wIes",
        "colab_type": "code",
        "colab": {
          "base_uri": "https://localhost:8080/",
          "height": 105
        },
        "outputId": "71aa65bd-e268-4f1c-90d7-08445d899eff"
      },
      "source": [
        "from sklearn.naive_bayes import GaussianNB, BernoulliNB\n",
        "from sklearn.metrics import accuracy_score, classification_report\n",
        "from sklearn.ensemble import BaggingClassifier\n",
        "from sklearn.neighbors import KNeighborsClassifier\n",
        "from sklearn.linear_model import SGDClassifier\n",
        "from sklearn.model_selection import train_test_split\n",
        "from sklearn.metrics import cohen_kappa_score\n",
        "from sklearn.metrics import confusion_matrix\n",
        "from sklearn.ensemble import RandomForestClassifier\n",
        "\n",
        "from sklearn import preprocessing\n",
        "import torch\n",
        "from sklearn import svm\n",
        "from sklearn import tree\n",
        "import pandas as pd\n",
        "from sklearn.externals import joblib\n",
        "import pickle\n",
        "import numpy as np\n",
        "import seaborn as sns"
      ],
      "execution_count": 1,
      "outputs": [
        {
          "output_type": "stream",
          "text": [
            "/usr/local/lib/python3.6/dist-packages/sklearn/externals/joblib/__init__.py:15: FutureWarning: sklearn.externals.joblib is deprecated in 0.21 and will be removed in 0.23. Please import this functionality directly from joblib, which can be installed with: pip install joblib. If this warning is raised when loading pickled models, you may need to re-serialize those models with scikit-learn 0.21+.\n",
            "  warnings.warn(msg, category=FutureWarning)\n",
            "/usr/local/lib/python3.6/dist-packages/statsmodels/tools/_testing.py:19: FutureWarning: pandas.util.testing is deprecated. Use the functions in the public API at pandas.testing instead.\n",
            "  import pandas.util.testing as tm\n"
          ],
          "name": "stderr"
        }
      ]
    },
    {
      "cell_type": "code",
      "metadata": {
        "id": "t9GqXjq6w3GQ",
        "colab_type": "code",
        "colab": {
          "base_uri": "https://localhost:8080/",
          "height": 122
        },
        "outputId": "5375b25f-6c8b-4b43-869f-7dd33a0c43c0"
      },
      "source": [
        "from google.colab import drive\n",
        "drive.mount('/content/drive')"
      ],
      "execution_count": 2,
      "outputs": [
        {
          "output_type": "stream",
          "text": [
            "Go to this URL in a browser: https://accounts.google.com/o/oauth2/auth?client_id=947318989803-6bn6qk8qdgf4n4g3pfee6491hc0brc4i.apps.googleusercontent.com&redirect_uri=urn%3aietf%3awg%3aoauth%3a2.0%3aoob&response_type=code&scope=email%20https%3a%2f%2fwww.googleapis.com%2fauth%2fdocs.test%20https%3a%2f%2fwww.googleapis.com%2fauth%2fdrive%20https%3a%2f%2fwww.googleapis.com%2fauth%2fdrive.photos.readonly%20https%3a%2f%2fwww.googleapis.com%2fauth%2fpeopleapi.readonly\n",
            "\n",
            "Enter your authorization code:\n",
            "··········\n",
            "Mounted at /content/drive\n"
          ],
          "name": "stdout"
        }
      ]
    },
    {
      "cell_type": "code",
      "metadata": {
        "id": "zGJdCr26xJad",
        "colab_type": "code",
        "colab": {
          "base_uri": "https://localhost:8080/",
          "height": 34
        },
        "outputId": "c9e03f1e-a109-4926-96a0-9d20e1d6037f"
      },
      "source": [
        "cd \"drive/My Drive/Colab Notebooks/EmployeeAttrition/\""
      ],
      "execution_count": 3,
      "outputs": [
        {
          "output_type": "stream",
          "text": [
            "/content/drive/My Drive/Colab Notebooks/EmployeeAttrition\n"
          ],
          "name": "stdout"
        }
      ]
    },
    {
      "cell_type": "code",
      "metadata": {
        "id": "kUg0TSuYxOCi",
        "colab_type": "code",
        "colab": {
          "base_uri": "https://localhost:8080/",
          "height": 34
        },
        "outputId": "9937a84b-de0b-4c8b-91f5-8e0a980820de"
      },
      "source": [
        "ls"
      ],
      "execution_count": 4,
      "outputs": [
        {
          "output_type": "stream",
          "text": [
            "notebook.ipynb  result.csv  Test.csv  Train.csv\n"
          ],
          "name": "stdout"
        }
      ]
    },
    {
      "cell_type": "code",
      "metadata": {
        "id": "YlBwm9EDxP6H",
        "colab_type": "code",
        "colab": {}
      },
      "source": [
        "import pandas as pd\n",
        "train_df = pd.read_csv(\"Train.csv\")\n",
        "train_df.drop(train_df.columns[[0]], axis = 1, inplace = True)"
      ],
      "execution_count": 5,
      "outputs": []
    },
    {
      "cell_type": "code",
      "metadata": {
        "id": "X2Wju_OOxZDO",
        "colab_type": "code",
        "colab": {}
      },
      "source": [
        "train_df['Gender'].replace('F', 0,inplace=True)\n",
        "train_df['Gender'].replace('M', 1,inplace=True)\n",
        "\n",
        "train_df['Relationship_Status'].replace('Married',0,inplace=True)\n",
        "train_df['Relationship_Status'].replace('Single',1,inplace=True)\n",
        "\n",
        "train_df.Hometown = pd.Categorical(train_df.Hometown)\n",
        "train_df['Hometown'] = train_df.Hometown.cat.codes\n",
        "\n",
        "train_df.Unit = pd.Categorical(train_df.Unit)\n",
        "train_df['Unit'] = train_df.Unit.cat.codes\n",
        "\n",
        "train_df.Decision_skill_possess = pd.Categorical(train_df.Decision_skill_possess)\n",
        "train_df['Decision_skill_possess'] = train_df.Decision_skill_possess.cat.codes\n",
        "\n",
        "train_df.Compensation_and_Benefits = pd.Categorical(train_df.Compensation_and_Benefits)\n",
        "train_df['Compensation_and_Benefits'] = train_df.Compensation_and_Benefits.cat.codes"
      ],
      "execution_count": 6,
      "outputs": []
    },
    {
      "cell_type": "code",
      "metadata": {
        "id": "GZWu4a9h4nNO",
        "colab_type": "code",
        "colab": {}
      },
      "source": [
        "for columnName in train_df.columns:\n",
        "  if(train_df[columnName].isnull().values.any()==True):\n",
        "    train_df[columnName] = train_df[columnName].fillna(train_df[columnName].mean())"
      ],
      "execution_count": 7,
      "outputs": []
    },
    {
      "cell_type": "code",
      "metadata": {
        "id": "4CFs0kSqDrRX",
        "colab_type": "code",
        "colab": {}
      },
      "source": [
        "train_df_temp = train_df\n",
        "train_df_temp = train_df_temp.drop('Relationship_Status',1)\n",
        "train_df_temp = train_df_temp.drop('Hometown',1)\n",
        "train_df_temp = train_df_temp.drop('Time_of_service',1)\n",
        "train_df_temp = train_df_temp.drop('VAR3',1)\n",
        "train_df_temp = train_df_temp.drop('VAR5',1)"
      ],
      "execution_count": null,
      "outputs": []
    },
    {
      "cell_type": "code",
      "metadata": {
        "id": "hgd0WbT9EB-t",
        "colab_type": "code",
        "colab": {}
      },
      "source": [
        "train_df.head(20)"
      ],
      "execution_count": null,
      "outputs": []
    },
    {
      "cell_type": "code",
      "metadata": {
        "id": "c1lxHOQED80y",
        "colab_type": "code",
        "colab": {}
      },
      "source": [
        "train_df_temp.head(20)"
      ],
      "execution_count": null,
      "outputs": []
    },
    {
      "cell_type": "code",
      "metadata": {
        "id": "ICI20BAVzpvY",
        "colab_type": "code",
        "colab": {}
      },
      "source": [
        "X_train, X_test, y_train, y_test = train_test_split(train_df.iloc[:, :-1], train_df['Attrition_rate'], test_size=0.2, random_state=42)"
      ],
      "execution_count": 18,
      "outputs": []
    },
    {
      "cell_type": "code",
      "metadata": {
        "id": "Eg-HK2FMEEfT",
        "colab_type": "code",
        "colab": {}
      },
      "source": [
        "X_train, X_test, y_train, y_test = train_test_split(train_df_temp.iloc[:, :-1], train_df_temp['Attrition_rate'], test_size=0.2, random_state=42)"
      ],
      "execution_count": null,
      "outputs": []
    },
    {
      "cell_type": "code",
      "metadata": {
        "id": "1K2kA3uPHKqj",
        "colab_type": "code",
        "colab": {}
      },
      "source": [
        "from sklearn.preprocessing import normalize\n",
        "X_train = normalize(X_train,axis=0,norm='l1')\n",
        "X_test = normalize(X_test,axis=0,norm='l1')"
      ],
      "execution_count": 17,
      "outputs": []
    },
    {
      "cell_type": "code",
      "metadata": {
        "id": "hYRH4dMB0kFv",
        "colab_type": "code",
        "colab": {
          "base_uri": "https://localhost:8080/",
          "height": 85
        },
        "outputId": "c58946ba-5690-47ec-a8ce-8aaf554b4dae"
      },
      "source": [
        "print(X_train.shape)\n",
        "print(X_test.shape)\n",
        "print(y_train.shape)\n",
        "print(y_test.shape)"
      ],
      "execution_count": 19,
      "outputs": [
        {
          "output_type": "stream",
          "text": [
            "(5600, 22)\n",
            "(1400, 22)\n",
            "(5600,)\n",
            "(1400,)\n"
          ],
          "name": "stdout"
        }
      ]
    },
    {
      "cell_type": "code",
      "metadata": {
        "id": "qR-yKaC70udC",
        "colab_type": "code",
        "colab": {}
      },
      "source": [
        "import numpy as np\n",
        "from sklearn.linear_model import LinearRegression\n",
        "\n",
        "model = LinearRegression().fit(X_train,y_train)\n",
        "\n",
        "predictions = model.predict(X_test)"
      ],
      "execution_count": 20,
      "outputs": []
    },
    {
      "cell_type": "code",
      "metadata": {
        "id": "5TQfg3Fa5qvu",
        "colab_type": "code",
        "colab": {
          "base_uri": "https://localhost:8080/",
          "height": 34
        },
        "outputId": "1409dbaf-1e88-460a-939c-41319b5ae696"
      },
      "source": [
        "from sklearn.metrics import mean_squared_error\n",
        "from math import sqrt\n",
        "rmse = sqrt(mean_squared_error(y_test, predictions))\n",
        "print(rmse)"
      ],
      "execution_count": 21,
      "outputs": [
        {
          "output_type": "stream",
          "text": [
            "0.1865408957260126\n"
          ],
          "name": "stdout"
        }
      ]
    },
    {
      "cell_type": "code",
      "metadata": {
        "id": "43ytnp7uDNWX",
        "colab_type": "code",
        "colab": {}
      },
      "source": [
        "for i in range(len(train_df.columns)-1):\n",
        "  print(train_df.columns[i],'{:f}'.format(model.coef_[i]))"
      ],
      "execution_count": null,
      "outputs": []
    },
    {
      "cell_type": "code",
      "metadata": {
        "id": "FNAfLHLMBWRq",
        "colab_type": "code",
        "colab": {
          "base_uri": "https://localhost:8080/",
          "height": 34
        },
        "outputId": "2e8eb40e-af65-4dc5-995f-3737e1db23e1"
      },
      "source": [
        "import xgboost as xgb\n",
        "\n",
        "xgb_model = xgb.XGBRegressor(objective=\"reg:linear\", random_state=42)\n",
        "\n",
        "xgb_model.fit(X_train,y_train)\n",
        "\n",
        "predictions = xgb_model.predict(X_test)"
      ],
      "execution_count": 22,
      "outputs": [
        {
          "output_type": "stream",
          "text": [
            "[12:43:40] WARNING: /workspace/src/objective/regression_obj.cu:152: reg:linear is now deprecated in favor of reg:squarederror.\n"
          ],
          "name": "stdout"
        }
      ]
    },
    {
      "cell_type": "code",
      "metadata": {
        "id": "mVpVV3xrBhg9",
        "colab_type": "code",
        "colab": {
          "base_uri": "https://localhost:8080/",
          "height": 34
        },
        "outputId": "a0b292cf-ec5f-4859-990d-ffa11c357770"
      },
      "source": [
        "from sklearn.metrics import mean_squared_error\n",
        "from math import sqrt\n",
        "rmse = sqrt(mean_squared_error(y_test, predictions))\n",
        "print(rmse)"
      ],
      "execution_count": 23,
      "outputs": [
        {
          "output_type": "stream",
          "text": [
            "0.1876833961413047\n"
          ],
          "name": "stdout"
        }
      ]
    },
    {
      "cell_type": "code",
      "metadata": {
        "id": "bM5hC3WS9q6c",
        "colab_type": "code",
        "colab": {}
      },
      "source": [
        "import pandas as pd\n",
        "import numpy as np\n",
        "test_df = pd.read_csv(\"Test.csv\")\n",
        "\n",
        "id = test_df['Employee_ID']\n",
        "test_df.drop(test_df.columns[[0]], axis = 1, inplace = True)"
      ],
      "execution_count": null,
      "outputs": []
    },
    {
      "cell_type": "code",
      "metadata": {
        "id": "8r9Ajcp-_c5C",
        "colab_type": "code",
        "colab": {}
      },
      "source": [
        "id"
      ],
      "execution_count": null,
      "outputs": []
    },
    {
      "cell_type": "code",
      "metadata": {
        "id": "amFp_4rW95qZ",
        "colab_type": "code",
        "colab": {}
      },
      "source": [
        "test_df['Gender'].replace('F', 0,inplace=True)\n",
        "test_df['Gender'].replace('M', 1,inplace=True)"
      ],
      "execution_count": null,
      "outputs": []
    },
    {
      "cell_type": "code",
      "metadata": {
        "id": "uRUbUktx-Ei2",
        "colab_type": "code",
        "colab": {}
      },
      "source": [
        "test_df['Relationship_Status'].replace('Married',0,inplace=True)\n",
        "test_df['Relationship_Status'].replace('Single',1,inplace=True)"
      ],
      "execution_count": null,
      "outputs": []
    },
    {
      "cell_type": "code",
      "metadata": {
        "id": "TbNE0rLN-MBB",
        "colab_type": "code",
        "colab": {}
      },
      "source": [
        "test_df.Hometown = pd.Categorical(test_df.Hometown)\n",
        "test_df['Hometown'] = test_df.Hometown.cat.codes"
      ],
      "execution_count": null,
      "outputs": []
    },
    {
      "cell_type": "code",
      "metadata": {
        "id": "gHyTQU38-OA1",
        "colab_type": "code",
        "colab": {}
      },
      "source": [
        "test_df.Unit = pd.Categorical(test_df.Unit)\n",
        "test_df['Unit'] = test_df.Unit.cat.codes"
      ],
      "execution_count": null,
      "outputs": []
    },
    {
      "cell_type": "code",
      "metadata": {
        "id": "yPhck645-Q-4",
        "colab_type": "code",
        "colab": {}
      },
      "source": [
        "test_df.Decision_skill_possess = pd.Categorical(test_df.Decision_skill_possess)\n",
        "test_df['Decision_skill_possess'] = test_df.Decision_skill_possess.cat.codes"
      ],
      "execution_count": null,
      "outputs": []
    },
    {
      "cell_type": "code",
      "metadata": {
        "id": "N-FOwowr-UHu",
        "colab_type": "code",
        "colab": {}
      },
      "source": [
        "test_df.Compensation_and_Benefits = pd.Categorical(test_df.Compensation_and_Benefits)\n",
        "test_df['Compensation_and_Benefits'] = test_df.Compensation_and_Benefits.cat.codes"
      ],
      "execution_count": null,
      "outputs": []
    },
    {
      "cell_type": "code",
      "metadata": {
        "id": "v3F_-4xu-b9h",
        "colab_type": "code",
        "colab": {}
      },
      "source": [
        "for columnName in test_df.columns:\n",
        "  if(test_df[columnName].isnull().values.any()==True):\n",
        "    test_df[columnName] = test_df[columnName].fillna(0)"
      ],
      "execution_count": null,
      "outputs": []
    },
    {
      "cell_type": "code",
      "metadata": {
        "id": "YDlkuz6g_qh1",
        "colab_type": "code",
        "colab": {}
      },
      "source": [
        "test_df.head()"
      ],
      "execution_count": null,
      "outputs": []
    },
    {
      "cell_type": "code",
      "metadata": {
        "id": "LYjDd0gM-gJg",
        "colab_type": "code",
        "colab": {}
      },
      "source": [
        "X_final_test = np.array(test_df)"
      ],
      "execution_count": null,
      "outputs": []
    },
    {
      "cell_type": "code",
      "metadata": {
        "id": "z8DuUxtK-tJq",
        "colab_type": "code",
        "colab": {
          "base_uri": "https://localhost:8080/",
          "height": 34
        },
        "outputId": "661f74f8-b33e-44b5-8e51-3e4d23f46356"
      },
      "source": [
        "X_final_test.shape"
      ],
      "execution_count": null,
      "outputs": [
        {
          "output_type": "execute_result",
          "data": {
            "text/plain": [
              "(3000, 22)"
            ]
          },
          "metadata": {
            "tags": []
          },
          "execution_count": 116
        }
      ]
    },
    {
      "cell_type": "code",
      "metadata": {
        "id": "rC_Tx6M7-xpC",
        "colab_type": "code",
        "colab": {}
      },
      "source": [
        "import numpy as np\n",
        "from sklearn.linear_model import LinearRegression\n",
        "\n",
        "predictions = model.predict(X_final_test)"
      ],
      "execution_count": null,
      "outputs": []
    },
    {
      "cell_type": "code",
      "metadata": {
        "id": "breaBJti-3TZ",
        "colab_type": "code",
        "colab": {}
      },
      "source": [
        "import csv\n",
        "with open('result.csv', 'w', newline='') as file:\n",
        "    writer = csv.writer(file)\n",
        "    writer.writerow(['Employee_ID','Attrition_rate'])\n",
        "    for i in range(len(predictions)):\n",
        "      writer.writerow([id[i],predictions[i]])\n"
      ],
      "execution_count": null,
      "outputs": []
    },
    {
      "cell_type": "code",
      "metadata": {
        "id": "YO-Yzoxn_3lT",
        "colab_type": "code",
        "colab": {}
      },
      "source": [
        "from google.colab import files\n",
        "files.download('result.csv') "
      ],
      "execution_count": null,
      "outputs": []
    }
  ]
}